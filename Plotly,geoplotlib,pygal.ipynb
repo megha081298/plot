{
 "cells": [
  {
   "cell_type": "markdown",
   "id": "c6eac9b3",
   "metadata": {},
   "source": [
    "# Pygal"
   ]
  },
  {
   "cell_type": "code",
   "execution_count": null,
   "id": "26d07777",
   "metadata": {},
   "outputs": [],
   "source": [
    "import pandas as pd\n",
    "import pygal"
   ]
  },
  {
   "cell_type": "code",
   "execution_count": null,
   "id": "64a25bad",
   "metadata": {},
   "outputs": [],
   "source": [
    "df = pd.read_csv(\"https://raw.githubusercontent.com/justmarkham/scikit-learn-videos/master/data/Advertising.csv\")\n",
    "\n",
    "df"
   ]
  },
  {
   "cell_type": "code",
   "execution_count": null,
   "id": "cb934f90",
   "metadata": {},
   "outputs": [],
   "source": [
    "from IPython.display import display, HTML\n",
    "base_html = \"\"\"\n",
    "<!DOCTYPE html>\n",
    "<html>\n",
    "  <head>\n",
    "  <script type=\"text/javascript\" src=\"http://kozea.github.com/pygal.js/javascripts/svg.jquery.js\"></script>\n",
    "  <script type=\"text/javascript\" src=\"https://kozea.github.io/pygal.js/2.0.x/pygal-tooltips.min.js\"\"></script>\n",
    "  </head>\n",
    "  <body>\n",
    "    <figure>\n",
    "      {rendered_chart}\n",
    "    </figure>\n",
    "  </body>\n",
    "</html>\n",
    "\"\"\""
   ]
  },
  {
   "cell_type": "code",
   "execution_count": null,
   "id": "9f32c9a4",
   "metadata": {},
   "outputs": [],
   "source": [
    "bar_graphs = pygal.Bar()   \n",
    "\n",
    "bar_graphs.add('Sales', df['Sales'][:5]) \n",
    "#bar_graphs.render_to_file('bar1.svg')\n",
    "display(HTML(base_html.format(rendered_chart=bar_graphs.render(is_unicode=True))))"
   ]
  },
  {
   "cell_type": "code",
   "execution_count": null,
   "id": "d41050bd",
   "metadata": {},
   "outputs": [],
   "source": [
    "line_chart = pygal.Line()\n",
    "\n",
    "line_chart.add('Sales', df['Sales'][:20])\n",
    "\n",
    "display(HTML(base_html.format(rendered_chart=line_chart.render(is_unicode=True))))"
   ]
  },
  {
   "cell_type": "code",
   "execution_count": null,
   "id": "d184e28d",
   "metadata": {},
   "outputs": [],
   "source": [
    "box_plot = pygal.Box()\n",
    "\n",
    "box_plot.title = 'Advertising'\n",
    "box_plot.add('TV', df['TV'])\n",
    "\n",
    "box_plot.add('Radio', df['Radio'])\n",
    "\n",
    "box_plot.add('Newspaper', df['Newspaper'])\n",
    "\n",
    "display(HTML(base_html.format(rendered_chart=box_plot.render(is_unicode=True))))"
   ]
  },
  {
   "cell_type": "code",
   "execution_count": null,
   "id": "71e29d5d",
   "metadata": {},
   "outputs": [],
   "source": [
    "dot_chart = pygal.Dot()\n",
    "\n",
    "dot_chart.title = 'Advertising'\n",
    "\n",
    "dot_chart.add('Sales', df['Sales'][:5])\n",
    "\n",
    "dot_chart.add('TV', df['TV'][:5])\n",
    "\n",
    "dot_chart.add('Radio', df['Radio'][:5])\n",
    "\n",
    "dot_chart.add('Newspaper', df['Newspaper'][:5])\n",
    "\n",
    "display(HTML(base_html.format(rendered_chart=dot_chart.render(is_unicode=True))))"
   ]
  },
  {
   "cell_type": "code",
   "execution_count": null,
   "id": "3dc2923f",
   "metadata": {},
   "outputs": [],
   "source": [
    "gauge_chart = pygal.Gauge(human_readable=True)\n",
    "\n",
    "gauge_chart.title = 'Advertising'\n",
    "\n",
    "gauge_chart.range = [0, 500]\n",
    "\n",
    "gauge_chart.add('Sales', df['Sales'][:1])\n",
    "\n",
    "gauge_chart.add('TV', df['TV'][:1])\n",
    "\n",
    "gauge_chart.add('Radio', df['Radio'][:1])\n",
    "\n",
    "gauge_chart.add('Newspaper', df['Newspaper'][:1])\n",
    "display(HTML(base_html.format(rendered_chart=gauge_chart.render(is_unicode=True))))"
   ]
  },
  {
   "cell_type": "code",
   "execution_count": null,
   "id": "403fa9ab",
   "metadata": {},
   "outputs": [],
   "source": [
    "treemap = pygal.Treemap()\n",
    "\n",
    "treemap.title = 'Advertisement TreeMap'\n",
    "\n",
    "treemap.add('Sales', df['Sales'][:10])\n",
    "\n",
    "treemap.add('TV', df['TV'][:10])\n",
    "\n",
    "treemap.add('Radio', df['Radio'][:10])\n",
    "\n",
    "treemap.add('Newspaper', df['Newspaper'][:10])\n",
    "\n",
    "display(HTML(base_html.format(rendered_chart=treemap.render(is_unicode=True))))"
   ]
  },
  {
   "cell_type": "markdown",
   "id": "8436c8ab",
   "metadata": {},
   "source": [
    "# Plotly"
   ]
  },
  {
   "cell_type": "code",
   "execution_count": null,
   "id": "9cc8115d",
   "metadata": {},
   "outputs": [],
   "source": [
    "import numpy as np\n",
    "import plotly\n",
    "import plotly.graph_objects as go\n",
    "import plotly.offline as pyo\n",
    "from plotly.offline import init_notebook_mode\n",
    " \n",
    "init_notebook_mode(connected=True)\n",
    " \n",
    "# generating 150 random integers\n",
    "# from 1 to 50\n",
    "x = np.random.randint(low=1, high=50, size=150)*0.1\n",
    " \n",
    "# generating 150 random integers\n",
    "# from 1 to 50\n",
    "y = np.random.randint(low=1, high=50, size=150)*0.1\n",
    " \n",
    "# plotting scatter plot\n",
    "fig = go.Figure(data=go.Scatter(x=x, y=y, mode='markers'))\n",
    " \n",
    "fig.show()"
   ]
  },
  {
   "cell_type": "code",
   "execution_count": null,
   "id": "272245a4",
   "metadata": {},
   "outputs": [],
   "source": [
    "countries=['India', 'canada',\n",
    "           'Australia','Brazil',\n",
    "           'Mexico','Russia',\n",
    "           'Germany','Switzerland',\n",
    "           'Texas']\n",
    " \n",
    "# plotting corresponding y for each\n",
    "# country in x\n",
    "fig = go.Figure([go.Bar(x=countries,\n",
    "                        y=[80,70,60,50,\n",
    "                           40,50,60,70,80])])\n",
    " \n",
    "fig.show()"
   ]
  },
  {
   "cell_type": "code",
   "execution_count": null,
   "id": "a08c74f3",
   "metadata": {},
   "outputs": [],
   "source": [
    "countries=['India', 'canada',\n",
    "           'Australia','Brazil',\n",
    "           'Mexico','Russia',\n",
    "           'Germany','Switzerland',\n",
    "           'Texas']\n",
    " \n",
    "# values corresponding to each\n",
    "# individual country present in\n",
    "# countries\n",
    "values = [4500, 2500, 1053, 500,\n",
    "          3200, 1500, 1253, 600, 3500]\n",
    " \n",
    "# plotting pie chart\n",
    "fig = go.Figure(data=[go.Pie(labels=countries,\n",
    "                      values=values)])\n",
    " \n",
    "fig.show()"
   ]
  },
  {
   "cell_type": "code",
   "execution_count": null,
   "id": "d57cd238",
   "metadata": {},
   "outputs": [],
   "source": [
    "init_notebook_mode(connected = True)\n",
    " \n",
    "# save the state of random\n",
    "np.random.seed(42) \n",
    " \n",
    "# generating 250 random numbers\n",
    "x = np.random.randn(250)\n",
    " \n",
    "# plotting histogram for x\n",
    "fig = go.Figure(data=[go.Histogram(x=x)])\n",
    " \n",
    "fig.show()"
   ]
  },
  {
   "cell_type": "code",
   "execution_count": null,
   "id": "6ee8ae71",
   "metadata": {},
   "outputs": [],
   "source": [
    "init_notebook_mode(connected = True)\n",
    " \n",
    "np.random.seed(42)\n",
    " \n",
    "# generating 50 random numbers\n",
    "y = np.random.randn(50)\n",
    " \n",
    "# generating 50 random numbers\n",
    "y1 = np.random.randn(50)\n",
    "fig = go.Figure() \n",
    " \n",
    "# updating the figure with y\n",
    "fig.add_trace(go.Box(y=y))\n",
    " \n",
    "# updating the figure with y1\n",
    "fig.add_trace(go.Box(y=y1))\n",
    " \n",
    "fig.show()"
   ]
  },
  {
   "cell_type": "markdown",
   "id": "e90e850e",
   "metadata": {},
   "source": [
    "# Geoplotlib:"
   ]
  },
  {
   "cell_type": "code",
   "execution_count": 4,
   "id": "79a5ba04",
   "metadata": {},
   "outputs": [
    {
     "name": "stdout",
     "output_type": "stream",
     "text": [
      "Collecting package metadata (current_repodata.json): done\n",
      "Solving environment: done\n",
      "\n",
      "\n",
      "==> WARNING: A newer version of conda exists. <==\n",
      "  current version: 22.9.0\n",
      "  latest version: 23.5.0\n",
      "\n",
      "Please update conda by running\n",
      "\n",
      "    $ conda update -n base -c defaults conda\n",
      "\n",
      "\n",
      "\n",
      "## Package Plan ##\n",
      "\n",
      "  environment location: /opt/anaconda3\n",
      "\n",
      "  added / updated specs:\n",
      "    - geoplotlib\n",
      "\n",
      "\n",
      "The following packages will be downloaded:\n",
      "\n",
      "    package                    |            build\n",
      "    ---------------------------|-----------------\n",
      "    conda-22.11.1              |   py39h6e9494a_1         874 KB  conda-forge\n",
      "    ffmpeg-4.2.2               |       h97e5cf8_0        22.9 MB\n",
      "    geoplotlib-0.3.2           |     pyhd8ed1ab_0          25 KB  conda-forge\n",
      "    gettext-0.21.0             |       h7535e17_0         2.6 MB\n",
      "    gnutls-3.6.15              |       hed9c0bf_0         974 KB\n",
      "    lame-3.100                 |    hb7f2c08_1003         530 KB  conda-forge\n",
      "    libopus-1.3.1              |       hc929b4f_1         273 KB  conda-forge\n",
      "    libtasn1-4.19.0            |       hb7f2c08_0         116 KB  conda-forge\n",
      "    libvpx-1.7.0               |       h378b8a2_0         1.3 MB\n",
      "    nettle-3.7.3               |       h230ac6f_1         380 KB\n",
      "    openh264-2.1.1             |       h8346a28_0         655 KB\n",
      "    pyglet-1.5.27              |   py39h6e9494a_3         1.3 MB  conda-forge\n",
      "    python_abi-3.9             |           2_cp39           4 KB  conda-forge\n",
      "    ruamel.yaml-0.17.32        |   py39hdc70f33_0         197 KB  conda-forge\n",
      "    ruamel.yaml.clib-0.2.7     |   py39ha30fb19_1         118 KB  conda-forge\n",
      "    x264-1!157.20191217        |       h1de35cc_0         910 KB\n",
      "    ------------------------------------------------------------\n",
      "                                           Total:        33.0 MB\n",
      "\n",
      "The following NEW packages will be INSTALLED:\n",
      "\n",
      "  ffmpeg             pkgs/main/osx-64::ffmpeg-4.2.2-h97e5cf8_0 None\n",
      "  geoplotlib         conda-forge/noarch::geoplotlib-0.3.2-pyhd8ed1ab_0 None\n",
      "  gettext            pkgs/main/osx-64::gettext-0.21.0-h7535e17_0 None\n",
      "  gnutls             pkgs/main/osx-64::gnutls-3.6.15-hed9c0bf_0 None\n",
      "  lame               conda-forge/osx-64::lame-3.100-hb7f2c08_1003 None\n",
      "  libopus            conda-forge/osx-64::libopus-1.3.1-hc929b4f_1 None\n",
      "  libtasn1           conda-forge/osx-64::libtasn1-4.19.0-hb7f2c08_0 None\n",
      "  libvpx             pkgs/main/osx-64::libvpx-1.7.0-h378b8a2_0 None\n",
      "  nettle             pkgs/main/osx-64::nettle-3.7.3-h230ac6f_1 None\n",
      "  openh264           pkgs/main/osx-64::openh264-2.1.1-h8346a28_0 None\n",
      "  pyglet             conda-forge/osx-64::pyglet-1.5.27-py39h6e9494a_3 None\n",
      "  python_abi         conda-forge/osx-64::python_abi-3.9-2_cp39 None\n",
      "  ruamel.yaml        conda-forge/osx-64::ruamel.yaml-0.17.32-py39hdc70f33_0 None\n",
      "  ruamel.yaml.clib   conda-forge/osx-64::ruamel.yaml.clib-0.2.7-py39ha30fb19_1 None\n",
      "  x264               pkgs/main/osx-64::x264-1!157.20191217-h1de35cc_0 None\n",
      "\n",
      "The following packages will be UPDATED:\n",
      "\n",
      "  conda              pkgs/main::conda-22.9.0-py39hecd8cb5_0 --> conda-forge::conda-22.11.1-py39h6e9494a_1 None\n",
      "\n",
      "\n",
      "\n",
      "Downloading and Extracting Packages\n",
      "ruamel.yaml-0.17.32  | 197 KB    | ##################################### | 100% \n",
      "conda-22.11.1        | 874 KB    | ##################################### | 100% \n",
      "geoplotlib-0.3.2     | 25 KB     | ##################################### | 100% \n",
      "libvpx-1.7.0         | 1.3 MB    | ##################################### | 100% \n",
      "libtasn1-4.19.0      | 116 KB    | ##################################### | 100% \n",
      "ruamel.yaml.clib-0.2 | 118 KB    | ##################################### | 100% \n",
      "x264-1!157.20191217  | 910 KB    | ##################################### | 100% \n",
      "nettle-3.7.3         | 380 KB    | ##################################### | 100% \n",
      "gnutls-3.6.15        | 974 KB    | ##################################### | 100% \n",
      "pyglet-1.5.27        | 1.3 MB    | ##################################### | 100% \n",
      "lame-3.100           | 530 KB    | ##################################### | 100% \n",
      "gettext-0.21.0       | 2.6 MB    | ##################################### | 100% \n",
      "python_abi-3.9       | 4 KB      | ##################################### | 100% \n",
      "libopus-1.3.1        | 273 KB    | ##################################### | 100% \n",
      "openh264-2.1.1       | 655 KB    | ##################################### | 100% \n",
      "ffmpeg-4.2.2         | 22.9 MB   | ##################################### | 100% \n",
      "Preparing transaction: done\n",
      "Verifying transaction: done\n",
      "Executing transaction: done\n",
      "Retrieving notices: ...working... done\n",
      "\n",
      "Note: you may need to restart the kernel to use updated packages.\n"
     ]
    }
   ],
   "source": [
    "conda install -c conda-forge geoplotlib"
   ]
  },
  {
   "cell_type": "code",
   "execution_count": 6,
   "id": "230acc4b",
   "metadata": {},
   "outputs": [],
   "source": [
    "import pandas as pd\n",
    "import geoplotlib\n",
    "from geoplotlib.utils import read_csv\n",
    "\n",
    "data = read_csv('/Users/meghaprajapati/Downloads/bus.csv')\n",
    "geoplotlib.dot(data)\n",
    "geoplotlib.show()"
   ]
  },
  {
   "cell_type": "code",
   "execution_count": null,
   "id": "77824b2e",
   "metadata": {},
   "outputs": [],
   "source": []
  }
 ],
 "metadata": {
  "kernelspec": {
   "display_name": "Python 3 (ipykernel)",
   "language": "python",
   "name": "python3"
  },
  "language_info": {
   "codemirror_mode": {
    "name": "ipython",
    "version": 3
   },
   "file_extension": ".py",
   "mimetype": "text/x-python",
   "name": "python",
   "nbconvert_exporter": "python",
   "pygments_lexer": "ipython3",
   "version": "3.9.12"
  }
 },
 "nbformat": 4,
 "nbformat_minor": 5
}
